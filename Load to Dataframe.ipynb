{
  "cells": [
    {
      "cell_type": "code",
      "source": [
        "%%pyspark\r\n",
        "# Primary storage info\r\n",
        "account_name = 'synapse11datalake' # primary ADLS account name https://synapse11datalake.dfs.core.windows.net\r\n",
        "container_name = 'root' # Primary ADLS Gen2 file system from Synapse Home Page\r\n",
        "relative_path = 'Raw/JSON AdventureWorks' #  relative folder path\r\n",
        "filename =  'SalesLT_Product_20200716.json'\r\n",
        "data_path = 'abfss://%s@%s.dfs.core.windows.net/%s/%s' % (container_name, account_name, relative_path,filename)\r\n",
        "#df = spark.read.load('abfss://root@synapse11datalake.dfs.core.windows.net/Raw/JSON AdventureWorks/SalesLT_Product_20200716.json', format='json')\r\n",
        "df = spark.read.json(data_path)\r\n",
        "display(df.limit(10))"
      ],
      "outputs": [],
      "execution_count": 5,
      "metadata": {
        "microsoft": {
          "language": "python"
        },
        "collapsed": false
      }
    },
    {
      "cell_type": "code",
      "source": [
        "df.createOrReplaceTempView(\"Products\") \r\n"
      ],
      "outputs": [],
      "execution_count": 2,
      "metadata": {
        "jupyter": {
          "source_hidden": false,
          "outputs_hidden": false
        },
        "nteract": {
          "transient": {
            "deleting": false
          }
        },
        "collapsed": true
      }
    },
    {
      "cell_type": "code",
      "source": [
        "%%sql\r\n",
        "Select * from Products LIMIT 10"
      ],
      "outputs": [],
      "execution_count": 3,
      "metadata": {
        "jupyter": {
          "source_hidden": false,
          "outputs_hidden": false
        },
        "nteract": {
          "transient": {
            "deleting": false
          }
        },
        "microsoft": {
          "language": "sparksql"
        },
        "collapsed": false
      }
    }
  ],
  "metadata": {
    "kernelspec": {
      "name": "synapse_pyspark",
      "language": "Python",
      "display_name": "Synapse PySpark"
    },
    "language_info": {
      "name": "python"
    },
    "kernel_info": {
      "name": "synapse_pyspark"
    },
    "save_output": true,
    "synapse_widget": {
      "version": "0.1",
      "state": {}
    }
  },
  "nbformat": 4,
  "nbformat_minor": 2
}